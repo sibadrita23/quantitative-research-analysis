# Import necessary libraries
import pandas as pd
import numpy as np

# Load the data
df = pd.read_csv('../data/processed/processed_data.csv')

# Feature Engineering
df['Moving_Avg'] = df['Close'].rolling(window=20).mean()
df['Returns'] = df['Close'].pct_change()

# Save the features
df.to_csv('../data/processed/engineered_features.csv', index=False)
